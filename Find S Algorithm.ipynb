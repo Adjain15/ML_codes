{
 "cells": [
  {
   "cell_type": "code",
   "execution_count": 24,
   "id": "b7fbd3a8",
   "metadata": {},
   "outputs": [
    {
     "name": "stdout",
     "output_type": "stream",
     "text": [
      "Given dataset: \n",
      "[['Sunny' 'Warm' 'Normal' 'Strong' 'Warm' 'Same' 'Yes']\n",
      " ['Sunny' 'Warm' 'High' 'Strong' 'Warm' 'Same' 'Yes']\n",
      " ['Rainy' 'Cold' 'High' 'Strong' 'Warm' 'Change' 'No']\n",
      " ['Sunny' 'Warm' 'High' 'Strong' 'Cool' 'Change' 'Yes']]\n",
      "\n",
      "Generalize Hypothesis\n",
      "['Sunny', 'Warm', '?', 'Strong', '?', '?']\n"
     ]
    }
   ],
   "source": [
    "import pandas as pd\n",
    "\n",
    "\n",
    "\n",
    "data = pd.read_csv('dataset.csv')\n",
    "trainData = data.to_numpy()\n",
    "print(\"Given dataset: \")\n",
    "print(trainData);\n",
    "h = [\"$\" for i in range(len(trainData[0])-1)]\n",
    "\n",
    "\n",
    "for i in trainData:\n",
    "    for j in range(len(i)-1):\n",
    "        if i[-1] == \"Yes\":\n",
    "            if h[j] == \"$\":\n",
    "                h[j] = i[j];\n",
    "            elif h[j] != i[j]:\n",
    "                h[j] = \"?\"\n",
    "                \n",
    "print(\"\\nGeneralize Hypothesis\");\n",
    "print(h)\n",
    "            "
   ]
  },
  {
   "cell_type": "code",
   "execution_count": null,
   "id": "72857447",
   "metadata": {},
   "outputs": [],
   "source": []
  },
  {
   "cell_type": "code",
   "execution_count": null,
   "id": "7a4719d5",
   "metadata": {},
   "outputs": [],
   "source": []
  },
  {
   "cell_type": "code",
   "execution_count": null,
   "id": "fee5d03f",
   "metadata": {},
   "outputs": [],
   "source": []
  }
 ],
 "metadata": {
  "kernelspec": {
   "display_name": "Python 3.9.12 ('base')",
   "language": "python",
   "name": "python3"
  },
  "language_info": {
   "codemirror_mode": {
    "name": "ipython",
    "version": 3
   },
   "file_extension": ".py",
   "mimetype": "text/x-python",
   "name": "python",
   "nbconvert_exporter": "python",
   "pygments_lexer": "ipython3",
   "version": "3.9.12"
  },
  "vscode": {
   "interpreter": {
    "hash": "dc07d24e2f18896857f0b2a651fe84ba40ce7b297e58d8804a308c8039f752a6"
   }
  }
 },
 "nbformat": 4,
 "nbformat_minor": 5
}
