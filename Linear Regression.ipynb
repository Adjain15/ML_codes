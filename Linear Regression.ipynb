{
 "cells": [
  {
   "cell_type": "code",
   "execution_count": 2,
   "id": "f26a79b5",
   "metadata": {},
   "outputs": [
    {
     "name": "stdout",
     "output_type": "stream",
     "text": [
      "Slope =  1.000778248080848\n",
      "constant c =  -0.12015553181324634\n"
     ]
    },
    {
     "data": {
      "image/png": "[encoded data removed]",
      "text/plain": [
       "<Figure size 432x288 with 1 Axes>"
      ]
     },
     "metadata": {
      "needs_background": "light"
     },
     "output_type": "display_data"
    },
    {
     "name": "stdout",
     "output_type": "stream",
     "text": [
      "error  0.9906694842900405\n"
     ]
    }
   ],
   "source": [
    "import numpy as np\n",
    "import matplotlib.pyplot as plt\n",
    "import pandas as pd\n",
    "df = pd.read_csv('train.csv')\n",
    "data = df.to_numpy()\n",
    "df.head(10)\n",
    "\n",
    "def getline(x, y):\n",
    "    num = 0\n",
    "    den = 0\n",
    "    for i in range(len(x)):\n",
    "        num += (x[i] - x_) * (y[i] - y_)\n",
    "        den += (x[i] - x_) * (x[i] - x_)\n",
    "\n",
    "    slope =  num / den\n",
    "    c = y_ - (slope * x_)\n",
    "    y2 = slope * x + c\n",
    "    return x, y2, slope, c\n",
    "def plot_graph(x, y, x2, y2):\n",
    "    new_y = slope*x + c\n",
    "    plt.scatter(x, y)\n",
    "    plt.plot(x2, y2, \"-r\")\n",
    "    plt.show()\n",
    "def rsq(y, yp, y_):\n",
    "    num = 0\n",
    "    den = 0\n",
    "    for i in range(len(y)):\n",
    "        num += (yp[i] - y_) ** 2\n",
    "        den += (y[i] - y_) ** 2\n",
    "    return num / den\n",
    "\n",
    "x = np.array((df['x']).tolist())\n",
    "y = np.array((df['y']).tolist())\n",
    "\n",
    "x_ = np.mean(x)\n",
    "y_ = np.mean(y)\n",
    "\n",
    "x2, y2, slope, c = getline(x, y)\n",
    "print(\"Slope = \", slope)\n",
    "print(\"constant c = \" , c)\n",
    "plot_graph(x, y, x2, y2)\n",
    "\n",
    "print(\"error \", rsq(y, y2, y_))\n",
    "\n"
   ]
  }
 ],
 "metadata": {
  "kernelspec": {
   "display_name": "Python 3.9.12 ('base')",
   "language": "python",
   "name": "python3"
  },
  "language_info": {
   "codemirror_mode": {
    "name": "ipython",
    "version": 3
   },
   "file_extension": ".py",
   "mimetype": "text/x-python",
   "name": "python",
   "nbconvert_exporter": "python",
   "pygments_lexer": "ipython3",
   "version": "3.9.12"
  },
  "vscode": {
   "interpreter": {
    "hash": "dc07d24e2f18896857f0b2a651fe84ba40ce7b297e58d8804a308c8039f752a6"
   }
  }
 },
 "nbformat": 4,
 "nbformat_minor": 5
}
