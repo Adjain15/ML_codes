{
 "cells": [
  {
   "cell_type": "code",
   "execution_count": 19,
   "id": "defa9075",
   "metadata": {},
   "outputs": [
    {
     "name": "stdout",
     "output_type": "stream",
     "text": [
      "   sepal length  sepal width   petal length   petal width        class\n",
      "0           5.1          3.5            1.4           0.2  Iris-setosa\n",
      "1           4.9          3.0            1.4           0.2  Iris-setosa\n",
      "2           4.7          3.2            1.3           0.2  Iris-setosa\n",
      "3           4.6          3.1            1.5           0.2  Iris-setosa\n",
      "4           5.0          3.6            1.4           0.2  Iris-setosa\n",
      "5           5.4          3.9            1.7           0.4  Iris-setosa\n",
      "6           4.6          3.4            1.4           0.3  Iris-setosa\n",
      "7           5.0          3.4            1.5           0.2  Iris-setosa\n",
      "8           4.4          2.9            1.4           0.2  Iris-setosa\n",
      "9           4.9          3.1            1.5           0.1  Iris-setosa\n",
      "(150, 4)\n",
      "The different class labels present in Iris Dataset are: \n",
      " ['Iris-setosa' 'Iris-versicolor' 'Iris-virginica']\n",
      "\n",
      "\n",
      "Actual Labels of test data are: \n",
      " ['Iris-versicolor' 'Iris-versicolor' 'Iris-setosa' 'Iris-versicolor'\n",
      " 'Iris-setosa' 'Iris-virginica' 'Iris-virginica' 'Iris-virginica'\n",
      " 'Iris-setosa' 'Iris-virginica' 'Iris-virginica' 'Iris-versicolor'\n",
      " 'Iris-setosa' 'Iris-versicolor' 'Iris-setosa']\n",
      "\n",
      "\n",
      "Predicted Labels of test data are: \n",
      " ['Iris-setosa' 'Iris-setosa' 'Iris-setosa' 'Iris-versicolor'\n",
      " 'Iris-virginica' 'Iris-virginica' 'Iris-virginica' 'Iris-virginica'\n",
      " 'Iris-virginica' 'Iris-virginica' 'Iris-virginica' 'Iris-virginica'\n",
      " 'Iris-virginica' 'Iris-virginica' 'Iris-virginica']\n",
      "\n",
      "The accuarcy of the predicted results is:  0.4666666666666667\n"
     ]
    }
   ],
   "source": [
    "import pandas as pd\n",
    "import numpy as np\n",
    "import statistics\n",
    "from sklearn.model_selection import train_test_split\n",
    "\n",
    "\n",
    "def Eucledian_Distance(p1, p2):\n",
    "    dist=0\n",
    "    dist= np.sum((p1-p2)**2)\n",
    "        \n",
    "    return np.sqrt(dist)\n",
    "\n",
    "def Predict_class(x_data, y_data, x_test, k):\n",
    "    predicted_label=[]\n",
    "    for item in range(len(x_test)):\n",
    "        points_dist= []\n",
    "        for i in range(len(x_data)):\n",
    "            dist= Eucledian_Distance(x_data[i, :], item)\n",
    "            points_dist.append(dist)\n",
    "        \n",
    "        points_dist= np.array(points_dist)\n",
    "        \n",
    "        minimum_k_distances= np.argsort(points_dist)[:k]\n",
    "        class_labels= y_data[minimum_k_distances]\n",
    "        label= statistics.mode(class_labels)\n",
    "        predicted_label.append(label)\n",
    "        \n",
    "    return predicted_label\n",
    "\n",
    "def accuracy(actual, predict):\n",
    "    count=0\n",
    "    for i in range(len(actual)):\n",
    "        if actual[i]==predict[i]:\n",
    "            count= count+1\n",
    "    return count/len(actual)\n",
    "\n",
    "dataset= pd.read_csv(\"Iris_dataset.csv\")\n",
    "print(dataset.head(10))\n",
    "x= np.array(dataset.iloc[:, :-1])\n",
    "y= np.array(dataset.iloc[:, -1])\n",
    "print(x.shape)\n",
    "output_labels= np.unique(y)\n",
    "print(\"The different class labels present in Iris Dataset are: \\n\",output_labels)\n",
    "       \n",
    "x_train, x_test, y_train, y_test= train_test_split(x, y, test_size=0.1, stratify=y, shuffle=True, random_state=85)\n",
    "\n",
    "k=5\n",
    "predicted_label= np.array(Predict_class(x_train, y_train, x_test, k))\n",
    "actual_label= np.array(y_test)\n",
    "\n",
    "print(\"\\n\\nActual Labels of test data are: \\n\", actual_label)\n",
    "print(\"\\n\\nPredicted Labels of test data are: \\n\", predicted_label)\n",
    "print(\"\\nThe accuarcy of the predicted results is: \", accuracy(actual_label, predicted_label))\n",
    "\n",
    "\n",
    "\n"
   ]
  }
 ],
 "metadata": {
  "kernelspec": {
   "display_name": "Python 3.9.12 ('base')",
   "language": "python",
   "name": "python3"
  },
  "language_info": {
   "codemirror_mode": {
    "name": "ipython",
    "version": 3
   },
   "file_extension": ".py",
   "mimetype": "text/x-python",
   "name": "python",
   "nbconvert_exporter": "python",
   "pygments_lexer": "ipython3",
   "version": "3.9.12"
  },
  "vscode": {
   "interpreter": {
    "hash": "dc07d24e2f18896857f0b2a651fe84ba40ce7b297e58d8804a308c8039f752a6"
   }
  }
 },
 "nbformat": 4,
 "nbformat_minor": 5
}
