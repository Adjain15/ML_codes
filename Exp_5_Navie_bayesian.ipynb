{
  "cells": [
    {
      "cell_type": "code",
      "execution_count": 10,
      "metadata": {
        "id": "urgCPA1xG_Mm"
      },
      "outputs": [
        {
          "name": "stdout",
          "output_type": "stream",
          "text": [
            "Probability Yes =  0.01899335232668566\n",
            "Probability No =  0.010817307692307692\n",
            "Play =  Yes\n",
            "     Outlook Temperature Humidity Windy Unnamed: 4\n",
            "0      Rainy         Hot     High    No         No\n",
            "1      Rainy         Hot     High   Yes         No\n",
            "2   Overcast         Hot     High    No        Yes\n",
            "3      Sunny        Mild     High    No        Yes\n",
            "4      Sunny        Cool   Normal    No        Yes\n",
            "5      Sunny        Cool   Normal   Yes         No\n",
            "6   Overcast        Cool   Normal   Yes        Yes\n",
            "7      Rainy        Mild     High    No         No\n",
            "8      Rainy        Cool   Normal    No        Yes\n",
            "9      Sunny        Mild   Normal   Yes        Yes\n",
            "10     Rainy        Mild   Normal   Yes        Yes\n",
            "11  Overcast        Mild     High    No        Yes\n",
            "12  Overcast         Hot   Normal   Yes        Yes\n"
          ]
        }
      ],
      "source": [
        "import numpy as np\n",
        "import pandas as pd\n",
        "import json\n",
        "\n",
        "def separate_by_class(dataset):\n",
        "    separated = {}\n",
        "    for i in range(len(dataset)):\n",
        "        vector = dataset[i]\n",
        "        class_value = vector[-1]\n",
        "        if (class_value not in separated):\n",
        "            separated[class_value] = 1\n",
        "        else: \n",
        "            separated[class_value] += 1\n",
        "    return separated\n",
        "def get_prob(colData, labels):\n",
        "    colData = colData.values.tolist()\n",
        "    prob_dict = {}\n",
        "    for colVal, labelVal in zip(colData, labels):\n",
        "        if colVal not in prob_dict:\n",
        "            prob_dict[colVal] = [0, 0]\n",
        "            if labelVal == 'No':\n",
        "                prob_dict[colVal][1] += 1\n",
        "            else: \n",
        "                prob_dict[colVal][0] += 1\n",
        "        else: \n",
        "            if labelVal == 'No':\n",
        "                prob_dict[colVal][1] += 1\n",
        "            else: \n",
        "                prob_dict[colVal][0] += 1\n",
        "    return prob_dict\n",
        "\n",
        "nb_dataset = pd.read_csv('Exp_5_dataset.csv')\n",
        "labelcount = separate_by_class(nb_dataset.values.tolist())\n",
        "data_col = nb_dataset.iloc[:, :-1]\n",
        "label_col = nb_dataset.iloc[:, -1].values.tolist()\n",
        "\n",
        "prob_dict = {}\n",
        "for colName, colData in data_col.items():\n",
        "    prob_dict[colName] = get_prob(colData, label_col)\n",
        "\n",
        "input = {\n",
        "    'Outlook': 'Sunny', \n",
        "    'Temperature': 'Hot', \n",
        "    'Humidity' : 'Normal',\n",
        "    'Windy' : 'No'\n",
        "}\n",
        "p_yes_input = 1\n",
        "p_no_input = 1\n",
        "for key, value in input.items():\n",
        "    p_yes_input = p_yes_input * (prob_dict[key][value][0] / labelcount['Yes'])\n",
        "\n",
        "p_yes_input *= labelcount['Yes']/len(nb_dataset)\n",
        "print(\"Probability Yes = \", p_yes_input)\n",
        "\n",
        "for key, value in input.items():\n",
        "    p_no_input *= prob_dict[key][value][1] / labelcount['No']\n",
        "p_no_input *= labelcount['Yes']/len(nb_dataset)\n",
        "print(\"Probability No = \", p_no_input)\n",
        "answer = 'Yes' if p_yes_input > p_no_input else 'No'\n",
        "print('Play = ', answer)\n",
        "print(nb_dataset)"
      ]
    }
  ],
  "metadata": {
    "colab": {
      "provenance": []
    },
    "kernelspec": {
      "display_name": "Python 3.9.12 ('base')",
      "language": "python",
      "name": "python3"
    },
    "language_info": {
      "codemirror_mode": {
        "name": "ipython",
        "version": 3
      },
      "file_extension": ".py",
      "mimetype": "text/x-python",
      "name": "python",
      "nbconvert_exporter": "python",
      "pygments_lexer": "ipython3",
      "version": "3.9.12"
    },
    "vscode": {
      "interpreter": {
        "hash": "dc07d24e2f18896857f0b2a651fe84ba40ce7b297e58d8804a308c8039f752a6"
      }
    }
  },
  "nbformat": 4,
  "nbformat_minor": 0
}
