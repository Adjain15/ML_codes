{
 "cells": [
  {
   "cell_type": "code",
   "execution_count": 7,
   "metadata": {},
   "outputs": [
    {
     "name": "stdout",
     "output_type": "stream",
     "text": [
      "     0    1    2    3\n",
      "0  5.1  3.5  1.4  0.2\n",
      "1  4.9  3.0  1.4  0.2\n",
      "2  4.7  3.2  1.3  0.2\n",
      "3  4.6  3.1  1.5  0.2\n",
      "4  5.0  3.6  1.4  0.2\n",
      "5  5.4  3.9  1.7  0.4\n",
      "6  4.6  3.4  1.4  0.3\n",
      "7  5.0  3.4  1.5  0.2\n",
      "8  4.4  2.9  1.4  0.2\n",
      "9  4.9  3.1  1.5  0.1\n",
      "(150, 3)\n"
     ]
    },
    {
     "data": {
      "image/png": "[encoded data removed]",
      "text/plain": [
       "<Figure size 432x288 with 1 Axes>"
      ]
     },
     "metadata": {
      "needs_background": "light"
     },
     "output_type": "display_data"
    },
    {
     "name": "stdout",
     "output_type": "stream",
     "text": [
      "Centroid of cluster  0\n",
      ":  [6.83571429 3.06428571 5.6547619 ]\n",
      "\n",
      "\n",
      "Centroid of cluster  1\n",
      ":  [5.84655172 2.73275862 4.3637931 ]\n",
      "\n",
      "\n",
      "Centroid of cluster  2\n",
      ":  [5.006 3.428 1.462]\n",
      "\n",
      "\n"
     ]
    }
   ],
   "source": [
    "import pandas as pd\n",
    "import numpy as np\n",
    "import matplotlib.pyplot as plt\n",
    "\n",
    "def Calculate_New_Centroids(x_data, total_clusters, prev_centroids):\n",
    "    clusters= [[] for i in range(total_clusters)]  \n",
    "    \n",
    "    for idx, point in enumerate(x_data):\n",
    "        nearest_centroid= np.argmin(np.sqrt(np.sum((prev_centroids-point)**2, axis=1)))\n",
    "        clusters[nearest_centroid].append(idx)\n",
    "        \n",
    "    new_centroids=np.zeros((total_clusters, len(x_data[0])))\n",
    "    for idx, cluster_points in enumerate(clusters):\n",
    "        new_centroids[idx]= np.mean(x_data[cluster_points], axis=0)\n",
    "    \n",
    "    return  (clusters,new_centroids)\n",
    "\n",
    "def plot_clusters(x_data, clusters):\n",
    "    colors=['red', 'green', 'blue', 'black', 'orange', 'pink']\n",
    "    \n",
    "    for idx, cluster_point in enumerate(clusters): \n",
    "        for point in cluster_point:\n",
    "            plt.scatter(x_data[point, 0], x_data[point, 2], color= colors[idx])\n",
    "    \n",
    "    plt.show()\n",
    "    \n",
    "def KMeansClustering(x_data, total_clusters, Max_iterations= 100):\n",
    "    centroids= np.zeros((total_clusters, len(x_data[0])))\n",
    "    \n",
    "    for i in range(total_clusters):\n",
    "        centroids[i]= x_data[i]\n",
    "    centroids= np.array(centroids)\n",
    "    \n",
    "    for j in range(Max_iterations):\n",
    "        clusters, new_centroids= Calculate_New_Centroids(x_data, total_clusters, centroids)\n",
    "        \n",
    "        diff= np.sqrt(np.sum(np.sum((new_centroids-centroids)**2, axis=1)))\n",
    "        \n",
    "        if diff==0:\n",
    "            break\n",
    "        centroids= new_centroids\n",
    "    \n",
    "    plot_clusters(x_data, clusters)\n",
    "    return centroids\n",
    "\n",
    "from sklearn.datasets import load_iris\n",
    "iris = load_iris()\n",
    "dataset = pd.DataFrame(iris.data)\n",
    "print(dataset.head(10))\n",
    "x= np.array(dataset.iloc[:,:-1])\n",
    "print(x.shape)\n",
    "clusters_count=3\n",
    "cluster_centroid= KMeansClustering(x, clusters_count)\n",
    "\n",
    "for idx, point in enumerate(cluster_centroid):\n",
    "    print(\"Centroid of cluster \", idx)\n",
    "    print(\": \", point);\n",
    "    print(\"\\n\")"
   ]
  }
 ],
 "metadata": {
  "kernelspec": {
   "display_name": "Python 3.9.12 ('base')",
   "language": "python",
   "name": "python3"
  },
  "language_info": {
   "codemirror_mode": {
    "name": "ipython",
    "version": 3
   },
   "file_extension": ".py",
   "mimetype": "text/x-python",
   "name": "python",
   "nbconvert_exporter": "python",
   "pygments_lexer": "ipython3",
   "version": "3.9.12"
  },
  "orig_nbformat": 4,
  "vscode": {
   "interpreter": {
    "hash": "dc07d24e2f18896857f0b2a651fe84ba40ce7b297e58d8804a308c8039f752a6"
   }
  }
 },
 "nbformat": 4,
 "nbformat_minor": 2
}
