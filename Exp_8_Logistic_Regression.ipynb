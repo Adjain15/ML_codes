{
 "cells": [
  {
   "cell_type": "code",
   "execution_count": 6,
   "id": "51ace8c4",
   "metadata": {},
   "outputs": [
    {
     "name": "stdout",
     "output_type": "stream",
     "text": [
      "      User ID  Gender  Age  EstimatedSalary  Purchased\n",
      "0    15624510    Male   19            19000          0\n",
      "1    15810944    Male   35            20000          0\n",
      "2    15668575  Female   26            43000          0\n",
      "3    15603246  Female   27            57000          0\n",
      "4    15804002    Male   19            76000          0\n",
      "..        ...     ...  ...              ...        ...\n",
      "395  15691863  Female   46            41000          1\n",
      "396  15706071    Male   51            23000          1\n",
      "397  15654296  Female   50            20000          1\n",
      "398  15755018    Male   36            33000          0\n",
      "399  15594041  Female   49            36000          1\n",
      "\n",
      "[400 rows x 5 columns]\n"
     ]
    },
    {
     "data": {
      "image/png": "[encoded data removed]",
      "text/plain": [
       "<Figure size 720x432 with 1 Axes>"
      ]
     },
     "metadata": {
      "needs_background": "light"
     },
     "output_type": "display_data"
    },
    {
     "name": "stdout",
     "output_type": "stream",
     "text": [
      "Accuracy = 0.825\n"
     ]
    }
   ],
   "source": [
    "import numpy as np\n",
    "import pandas as pd\n",
    "import matplotlib.pyplot as plt\n",
    "\n",
    "from sklearn.model_selection import train_test_split\n",
    "from math import exp\n",
    "plt.rcParams[\"figure.figsize\"] = (10, 6)\n",
    "\n",
    "data = pd.read_csv(\"Exp_8_dataset.csv\")\n",
    "\n",
    "x_train,x_test,y_train,y_test = train_test_split(data['Age'],data['Purchased'],test_size=0.20)\n",
    "\n",
    "def normalize(X):\n",
    "    return X-X.mean()\n",
    "\n",
    "def predict(X, b0, b1):\n",
    "    return np.array([1/(1+exp(-1*b0 + -1*b1*x)) for x in X])\n",
    "\n",
    "def logistic_regression(X, Y):\n",
    "    X = normalize(X)\n",
    "    b0 = 0\n",
    "    b1 = 0\n",
    "    L = 0.001\n",
    "    epochs = 300\n",
    "    \n",
    "    for epoch in range(epochs):\n",
    "        y_pred = predict(X, b0, b1)\n",
    "        D_b0 = -2*sum((Y-y_pred) * y_pred * (1-y_pred))\n",
    "        D_b1 = -2*sum(X*(Y-y_pred) * y_pred * (1-y_pred))\n",
    "        \n",
    "        b0 = b0 - L * D_b0\n",
    "        b1 = b1 - L * D_b1\n",
    "    \n",
    "    return b0, b1\n",
    "\n",
    "b0, b1 = logistic_regression(x_train, y_train)\n",
    "\n",
    "x_test_norm = normalize(x_test)\n",
    "y_pred = predict(x_test_norm, b0, b1)\n",
    "y_pred = [1 if p >= 0.5 else 0 for p in y_pred]\n",
    "\n",
    "plt.clf()\n",
    "plt.scatter(x_test, y_test)\n",
    "plt.scatter(x_test, y_pred, c=\"red\")\n",
    "plt.show()\n",
    "\n",
    "accuracy = 0\n",
    "for i in range(len(y_pred)):\n",
    "    if y_pred[i] == y_test.iloc[i]:\n",
    "        accuracy += 1\n",
    "print(f\"Accuracy = {accuracy / len(y_pred)}\")"
   ]
  }
 ],
 "metadata": {
  "kernelspec": {
   "display_name": "Python 3.9.12 ('base')",
   "language": "python",
   "name": "python3"
  },
  "language_info": {
   "codemirror_mode": {
    "name": "ipython",
    "version": 3
   },
   "file_extension": ".py",
   "mimetype": "text/x-python",
   "name": "python",
   "nbconvert_exporter": "python",
   "pygments_lexer": "ipython3",
   "version": "3.9.12"
  },
  "vscode": {
   "interpreter": {
    "hash": "dc07d24e2f18896857f0b2a651fe84ba40ce7b297e58d8804a308c8039f752a6"
   }
  }
 },
 "nbformat": 4,
 "nbformat_minor": 5
}
